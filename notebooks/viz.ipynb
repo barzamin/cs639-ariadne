{
 "cells": [
  {
   "cell_type": "code",
   "execution_count": 4,
   "id": "232285e0-b6b5-4cf1-bb4b-f467edd88a8f",
   "metadata": {},
   "outputs": [],
   "source": [
    "%load_ext autoreload\n",
    "%autoreload 2"
   ]
  },
  {
   "cell_type": "code",
   "execution_count": 20,
   "id": "f3cdcb63-810c-4dbf-b5fd-3b13ac4a9566",
   "metadata": {},
   "outputs": [],
   "source": [
    "import torch\n",
    "from pathlib import Path\n",
    "from ariadne.util.datasets import DeepPCB\n",
    "from ariadne.nn.util import show_results\n",
    "from ariadne.nn.model import ariadne_resnet50, get_transform\n",
    "\n",
    "\n",
    "DEEPPCB_ROOT = Path('/Users/moon/git/DeepPCB')"
   ]
  },
  {
   "cell_type": "code",
   "execution_count": 55,
   "id": "8eb6ecd4-0090-4002-946d-f1936758f9cd",
   "metadata": {},
   "outputs": [],
   "source": [
    "dataset = DeepPCB(DEEPPCB_ROOT, get_transform(train=False))\n",
    "\n",
    "tmpl_image, obsv_image, targets = dataset[150]\n",
    "targets['scores'] = torch.ones_like(targets['labels'])\n",
    "show_results(obsv_image, targets, colors='red', font='FSD - PragmataPro Bold.ttf', font_size=14).save('12100013_annotations.jpg')"
   ]
  },
  {
   "cell_type": "code",
   "execution_count": null,
   "id": "dc8451cb-8472-4a90-ab8e-366bb815627e",
   "metadata": {},
   "outputs": [],
   "source": []
  }
 ],
 "metadata": {
  "kernelspec": {
   "display_name": "Python 3 (ipykernel)",
   "language": "python",
   "name": "python3"
  },
  "language_info": {
   "codemirror_mode": {
    "name": "ipython",
    "version": 3
   },
   "file_extension": ".py",
   "mimetype": "text/x-python",
   "name": "python",
   "nbconvert_exporter": "python",
   "pygments_lexer": "ipython3",
   "version": "3.10.8"
  }
 },
 "nbformat": 4,
 "nbformat_minor": 5
}
