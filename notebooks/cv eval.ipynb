{
 "cells": [
  {
   "cell_type": "code",
   "execution_count": 1,
   "id": "73892997-6838-4a7c-a181-f9c91761e945",
   "metadata": {},
   "outputs": [],
   "source": [
    "%load_ext autoreload\n",
    "%autoreload 2"
   ]
  },
  {
   "cell_type": "code",
   "execution_count": 2,
   "id": "89237f77-1cbe-41f0-a66d-1ac293146a28",
   "metadata": {},
   "outputs": [],
   "source": [
    "from ariadne.util.deeppcb import DeepPCBData\n",
    "from ariadne.util import showdefects\n",
    "from ariadne.cv import get_defect_blobs\n",
    "import ariadne.cv\n",
    "from pathlib import Path\n",
    "from PIL import Image, ImageDraw\n",
    "import numpy as np\n",
    "import torch\n",
    "import torchvision\n",
    "import skimage as ski\n",
    "import collections\n",
    "from enum import IntEnum\n",
    "from tqdm.notebook import tqdm\n",
    "from sklearn import svm\n",
    "\n",
    "import matplotlib.pyplot as plt\n",
    "import matplotlib.patches as patches\n",
    "\n",
    "plt.rc('image', cmap='gray')\n",
    "\n",
    "%matplotlib inline"
   ]
  },
  {
   "cell_type": "code",
   "execution_count": null,
   "id": "e21e1edb-87f2-4655-8c43-153cbdfb8a1e",
   "metadata": {},
   "outputs": [],
   "source": []
  }
 ],
 "metadata": {
  "kernelspec": {
   "display_name": "Python 3 (ipykernel)",
   "language": "python",
   "name": "python3"
  },
  "language_info": {
   "codemirror_mode": {
    "name": "ipython",
    "version": 3
   },
   "file_extension": ".py",
   "mimetype": "text/x-python",
   "name": "python",
   "nbconvert_exporter": "python",
   "pygments_lexer": "ipython3",
   "version": "3.10.8"
  }
 },
 "nbformat": 4,
 "nbformat_minor": 5
}
